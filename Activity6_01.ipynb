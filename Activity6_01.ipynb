{
 "cells": [
  {
   "cell_type": "markdown",
   "metadata": {},
   "source": [
    "# Activity 6.01: Finding the Best Accuracy Score for the Digits Dataset\n",
    "\n",
    "In this activity, you will be training and evaluating a neural network that will be recognizing handwritten digits from the images provided by the MNIST dataset. You will be focusing on achieving an optimal accuracy score.\n",
    "\n",
    "\n",
    "  > You can read more about this dataset on TensorFlow's website at [https://www.tensorflow.org/datasets/catalog/mnist](https://www.tensorflow.org/datasets/catalog/mnist) Citation: This dataset was originally shared by Yann Lecun.\n",
    "  \n",
    "Output:\n",
    "\n",
    "![Figure 6.18](img/fig6_18.jpg)\n",
    "\n",
    "\n",
    "  > **Hints**  \n",
    "  >  * Import the MNIST dataset.\n",
    "  >  * Standardize the data by applying a division by 255.\n",
    "  >  * Create a neural network architecture with the following layers:\n",
    "  >    * A flatten input layer using `layers.Flatten(input_shape=(28,28))`\n",
    "  >    * A fully connected layer with `layers.Dense(128, activation='relu')`\n",
    "  >    * A dropout layer with `layers.Dropout(0.25)`\n",
    "  >    * A fully connected layer with `layers.Dense(10, activation='softmax')`\n",
    "  >  * Specify an `Adam` optimizer with a learning rate of $0.001$.\n",
    "  >  * Define an early stopping on the validation loss and patience of 5.\n",
    "  >  * Train the model.\n",
    "  >  * Evaluate the model and find the accuracy score."
   ]
  },
  {
   "cell_type": "code",
   "execution_count": null,
   "metadata": {},
   "outputs": [],
   "source": []
  },
  {
   "cell_type": "code",
   "execution_count": null,
   "metadata": {},
   "outputs": [],
   "source": []
  },
  {
   "cell_type": "code",
   "execution_count": null,
   "metadata": {},
   "outputs": [],
   "source": []
  },
  {
   "cell_type": "code",
   "execution_count": null,
   "metadata": {},
   "outputs": [],
   "source": []
  },
  {
   "cell_type": "code",
   "execution_count": null,
   "metadata": {},
   "outputs": [],
   "source": []
  },
  {
   "cell_type": "code",
   "execution_count": null,
   "metadata": {},
   "outputs": [],
   "source": []
  },
  {
   "cell_type": "code",
   "execution_count": null,
   "metadata": {},
   "outputs": [],
   "source": []
  },
  {
   "cell_type": "code",
   "execution_count": null,
   "metadata": {},
   "outputs": [],
   "source": []
  },
  {
   "cell_type": "code",
   "execution_count": null,
   "metadata": {},
   "outputs": [],
   "source": []
  },
  {
   "cell_type": "markdown",
   "metadata": {},
   "source": [
    "We achieved an accuracy score of 0.9825 for the training set and 0.9779 for the validation set for recognizing hand-written digits after just 10 epochs. These are amazing results. In this section, you learned how to build and train a neural network from scratch using TensorFlow to classify digits."
   ]
  },
  {
   "cell_type": "code",
   "execution_count": null,
   "metadata": {},
   "outputs": [],
   "source": []
  }
 ],
 "metadata": {
  "kernelspec": {
   "display_name": "Python 3",
   "language": "python",
   "name": "python3"
  },
  "language_info": {
   "codemirror_mode": {
    "name": "ipython",
    "version": 3
   },
   "file_extension": ".py",
   "mimetype": "text/x-python",
   "name": "python",
   "nbconvert_exporter": "python",
   "pygments_lexer": "ipython3",
   "version": "3.8.5"
  }
 },
 "nbformat": 4,
 "nbformat_minor": 4
}
